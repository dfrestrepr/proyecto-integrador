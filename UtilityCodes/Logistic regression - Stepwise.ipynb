{
 "cells": [
  {
   "cell_type": "markdown",
   "metadata": {},
   "source": [
    "# Logistic Regression - Stepwise"
   ]
  },
  {
   "cell_type": "code",
   "execution_count": 1,
   "metadata": {},
   "outputs": [],
   "source": [
    "import funciones\n",
    "import numpy as np\n",
    "import pandas as pd\n",
    "import statsmodels.api as sm"
   ]
  },
  {
   "cell_type": "code",
   "execution_count": 2,
   "metadata": {},
   "outputs": [],
   "source": [
    "Data = pd.read_csv('outputs/data_gapminder_proc.csv')"
   ]
  },
  {
   "cell_type": "code",
   "execution_count": 3,
   "metadata": {},
   "outputs": [
    {
     "data": {
      "text/html": [
       "<div>\n",
       "<style scoped>\n",
       "    .dataframe tbody tr th:only-of-type {\n",
       "        vertical-align: middle;\n",
       "    }\n",
       "\n",
       "    .dataframe tbody tr th {\n",
       "        vertical-align: top;\n",
       "    }\n",
       "\n",
       "    .dataframe thead th {\n",
       "        text-align: right;\n",
       "    }\n",
       "</style>\n",
       "<table border=\"1\" class=\"dataframe\">\n",
       "  <thead>\n",
       "    <tr style=\"text-align: right;\">\n",
       "      <th></th>\n",
       "      <th>population_density_per_square_km.</th>\n",
       "      <th>population_total.</th>\n",
       "      <th>gdp_per_capita_yearly_growth.</th>\n",
       "      <th>children_and_elderly_per_100_adults.</th>\n",
       "      <th>income_per_person_gdppercapita_ppp_inflation_adjusted.</th>\n",
       "    </tr>\n",
       "  </thead>\n",
       "  <tbody>\n",
       "    <tr>\n",
       "      <td>0</td>\n",
       "      <td>18.8</td>\n",
       "      <td>12200000</td>\n",
       "      <td>-5.580</td>\n",
       "      <td>101.0</td>\n",
       "      <td>1040.0</td>\n",
       "    </tr>\n",
       "    <tr>\n",
       "      <td>1</td>\n",
       "      <td>19.9</td>\n",
       "      <td>13000000</td>\n",
       "      <td>-0.572</td>\n",
       "      <td>101.0</td>\n",
       "      <td>1030.0</td>\n",
       "    </tr>\n",
       "    <tr>\n",
       "      <td>2</td>\n",
       "      <td>21.4</td>\n",
       "      <td>14000000</td>\n",
       "      <td>-7.950</td>\n",
       "      <td>101.0</td>\n",
       "      <td>950.0</td>\n",
       "    </tr>\n",
       "    <tr>\n",
       "      <td>3</td>\n",
       "      <td>23.1</td>\n",
       "      <td>15100000</td>\n",
       "      <td>-13.900</td>\n",
       "      <td>101.0</td>\n",
       "      <td>818.0</td>\n",
       "    </tr>\n",
       "    <tr>\n",
       "      <td>4</td>\n",
       "      <td>24.8</td>\n",
       "      <td>16200000</td>\n",
       "      <td>-10.400</td>\n",
       "      <td>101.0</td>\n",
       "      <td>732.0</td>\n",
       "    </tr>\n",
       "    <tr>\n",
       "      <td>...</td>\n",
       "      <td>...</td>\n",
       "      <td>...</td>\n",
       "      <td>...</td>\n",
       "      <td>...</td>\n",
       "      <td>...</td>\n",
       "    </tr>\n",
       "    <tr>\n",
       "      <td>5335</td>\n",
       "      <td>40.8</td>\n",
       "      <td>15800000</td>\n",
       "      <td>3.330</td>\n",
       "      <td>80.4</td>\n",
       "      <td>1890.0</td>\n",
       "    </tr>\n",
       "    <tr>\n",
       "      <td>5336</td>\n",
       "      <td>41.7</td>\n",
       "      <td>16200000</td>\n",
       "      <td>3.670</td>\n",
       "      <td>80.2</td>\n",
       "      <td>1860.0</td>\n",
       "    </tr>\n",
       "    <tr>\n",
       "      <td>5337</td>\n",
       "      <td>42.7</td>\n",
       "      <td>16500000</td>\n",
       "      <td>2.980</td>\n",
       "      <td>79.8</td>\n",
       "      <td>1910.0</td>\n",
       "    </tr>\n",
       "    <tr>\n",
       "      <td>5338</td>\n",
       "      <td>43.7</td>\n",
       "      <td>16900000</td>\n",
       "      <td>2.870</td>\n",
       "      <td>79.3</td>\n",
       "      <td>1950.0</td>\n",
       "    </tr>\n",
       "    <tr>\n",
       "      <td>5339</td>\n",
       "      <td>44.7</td>\n",
       "      <td>17300000</td>\n",
       "      <td>2.870</td>\n",
       "      <td>78.6</td>\n",
       "      <td>2000.0</td>\n",
       "    </tr>\n",
       "  </tbody>\n",
       "</table>\n",
       "<p>5340 rows × 5 columns</p>\n",
       "</div>"
      ],
      "text/plain": [
       "      population_density_per_square_km.  population_total.  \\\n",
       "0                                  18.8           12200000   \n",
       "1                                  19.9           13000000   \n",
       "2                                  21.4           14000000   \n",
       "3                                  23.1           15100000   \n",
       "4                                  24.8           16200000   \n",
       "...                                 ...                ...   \n",
       "5335                               40.8           15800000   \n",
       "5336                               41.7           16200000   \n",
       "5337                               42.7           16500000   \n",
       "5338                               43.7           16900000   \n",
       "5339                               44.7           17300000   \n",
       "\n",
       "      gdp_per_capita_yearly_growth.  children_and_elderly_per_100_adults.  \\\n",
       "0                            -5.580                                 101.0   \n",
       "1                            -0.572                                 101.0   \n",
       "2                            -7.950                                 101.0   \n",
       "3                           -13.900                                 101.0   \n",
       "4                           -10.400                                 101.0   \n",
       "...                             ...                                   ...   \n",
       "5335                          3.330                                  80.4   \n",
       "5336                          3.670                                  80.2   \n",
       "5337                          2.980                                  79.8   \n",
       "5338                          2.870                                  79.3   \n",
       "5339                          2.870                                  78.6   \n",
       "\n",
       "      income_per_person_gdppercapita_ppp_inflation_adjusted.  \n",
       "0                                                1040.0       \n",
       "1                                                1030.0       \n",
       "2                                                 950.0       \n",
       "3                                                 818.0       \n",
       "4                                                 732.0       \n",
       "...                                                 ...       \n",
       "5335                                             1890.0       \n",
       "5336                                             1860.0       \n",
       "5337                                             1910.0       \n",
       "5338                                             1950.0       \n",
       "5339                                             2000.0       \n",
       "\n",
       "[5340 rows x 5 columns]"
      ]
     },
     "execution_count": 3,
     "metadata": {},
     "output_type": "execute_result"
    }
   ],
   "source": [
    "X = Data.drop(columns = {'country','Date'})\n",
    "X"
   ]
  },
  {
   "cell_type": "code",
   "execution_count": 4,
   "metadata": {},
   "outputs": [],
   "source": [
    "label = (np.random.rand(5340,1)>0.5).astype(int)"
   ]
  },
  {
   "cell_type": "code",
   "execution_count": 5,
   "metadata": {},
   "outputs": [
    {
     "name": "stdout",
     "output_type": "stream",
     "text": [
      "Optimization terminated successfully.\n",
      "         Current function value: 0.692236\n",
      "         Iterations 3\n"
     ]
    }
   ],
   "source": [
    "model = sm.Logit(label, X).fit()"
   ]
  },
  {
   "cell_type": "code",
   "execution_count": 6,
   "metadata": {},
   "outputs": [],
   "source": [
    "pvalues = pd.DataFrame(model.pvalues,columns = ['pvalues']).reset_index()\n",
    "to_drop = pvalues[pvalues['pvalues']==pvalues['pvalues'].max()]['index'].values[0]"
   ]
  },
  {
   "cell_type": "code",
   "execution_count": 7,
   "metadata": {},
   "outputs": [
    {
     "data": {
      "text/plain": [
       "False"
      ]
     },
     "execution_count": 7,
     "metadata": {},
     "output_type": "execute_result"
    }
   ],
   "source": [
    "pvalues['pvalues'].max()<0.05"
   ]
  },
  {
   "cell_type": "markdown",
   "metadata": {},
   "source": [
    "Programación inicial de la función"
   ]
  },
  {
   "cell_type": "code",
   "execution_count": 8,
   "metadata": {
    "scrolled": true
   },
   "outputs": [],
   "source": [
    "def stepwise_logistic(X,Y,alpha =0.1):\n",
    "    \n",
    "    n = len(X.columns)\n",
    "    for i in range(n):\n",
    "        model = sm.Logit(Y, X).fit()\n",
    "        pvalues = pd.DataFrame(model.pvalues,columns = ['pvalues']).reset_index()\n",
    "        if pvalues['pvalues'].max()<alpha:\n",
    "            break\n",
    "        to_drop = pvalues[pvalues['pvalues']==pvalues['pvalues'].max()]['index'].values[0]\n",
    "        X = X.drop(columns = to_drop)\n",
    "\n",
    "    model = sm.Logit(Y, X).fit()\n",
    "    variables_relevantes = list(X.columns) \n",
    "    \n",
    "    return variables_relevantes,model"
   ]
  },
  {
   "cell_type": "markdown",
   "metadata": {},
   "source": [
    "Prueba de la función cargada desde el script de funciones"
   ]
  },
  {
   "cell_type": "code",
   "execution_count": 9,
   "metadata": {},
   "outputs": [
    {
     "name": "stdout",
     "output_type": "stream",
     "text": [
      "Optimization terminated successfully.\n",
      "         Current function value: 0.692236\n",
      "         Iterations 3\n",
      "Optimization terminated successfully.\n",
      "         Current function value: 0.692249\n",
      "         Iterations 3\n",
      "Optimization terminated successfully.\n",
      "         Current function value: 0.692280\n",
      "         Iterations 3\n",
      "Optimization terminated successfully.\n",
      "         Current function value: 0.692352\n",
      "         Iterations 3\n",
      "Optimization terminated successfully.\n",
      "         Current function value: 0.692478\n",
      "         Iterations 3\n",
      "Optimization terminated successfully.\n",
      "         Current function value: 0.692478\n",
      "         Iterations 3\n"
     ]
    }
   ],
   "source": [
    "X = Data.drop(columns = {'country','Date'})\n",
    "variables_relevantes,model = funciones.stepwise_logistic(X,label)"
   ]
  },
  {
   "cell_type": "code",
   "execution_count": null,
   "metadata": {},
   "outputs": [],
   "source": []
  }
 ],
 "metadata": {
  "kernelspec": {
   "display_name": "Python 3",
   "language": "python",
   "name": "python3"
  },
  "language_info": {
   "codemirror_mode": {
    "name": "ipython",
    "version": 3
   },
   "file_extension": ".py",
   "mimetype": "text/x-python",
   "name": "python",
   "nbconvert_exporter": "python",
   "pygments_lexer": "ipython3",
   "version": "3.7.3"
  }
 },
 "nbformat": 4,
 "nbformat_minor": 2
}
